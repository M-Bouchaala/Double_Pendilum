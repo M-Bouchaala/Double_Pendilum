{
 "cells": [
  {
   "cell_type": "code",
   "execution_count": null,
   "metadata": {},
   "outputs": [],
   "source": [
    "import sympy as smp\n",
    "import numpy as np\n",
    "import matplotlib.pyplot as plt\n",
    "import scipy as sip\n",
    "\n",
    "\"\"\" from sympy.physics.mechanics import dynamicsymbols, init_vprinting\n",
    "init_vprinting \"\"\"\n"
   ]
  },
  {
   "cell_type": "code",
   "execution_count": null,
   "metadata": {},
   "outputs": [],
   "source": [
    "# declare variables\n",
    "t, l1, l2, m1, m2, w, a, g = smp.symbols(r't l_1 l_2 m_1 m_2 \\omega A g')\n",
    "x1, y1, theta1, x2, y2, theta2 =smp.symbols(r'x_1 y_1 \\theta_1 x_2 y_2 \\theta_2', cls=smp.Function)\n",
    "x1, y1, theta1, x2, y2, theta2 = x1(t), y1(t), theta1(t), x2(t), y2(t), theta2(t)\n",
    "\n",
    "# variable conversions\n",
    "\"\"\" x1 = a*smp.cos(w*t)+l1*smp.sin(theta1)\n",
    "y1 = - l1*smp.cos(theta1)\n",
    " \"\"\"\n",
    "x1_eq = smp.Eq(x1, a*smp.cos(w*t)+l1*smp.sin(theta1))\n",
    "y1_eq = smp.Eq(y1, - l1*smp.cos(theta1))\n",
    "\n",
    "x2_eq = smp.Eq(x2, x1 + l2*smp.sin(theta2))\n",
    "y2_eq = smp.Eq(y2, y1 - l2*smp.cos(theta2))\n",
    "\n",
    "x2_eq = x2_eq.subs(x1, x1_eq.rhs)\n",
    "y2_eq = y2_eq.subs(y1, y1_eq.rhs)\n",
    "\n",
    "# derivatives\n",
    "theta1_dot = theta1.diff(t)\n",
    "theta2_dot = theta2.diff(t)\n",
    "\n",
    "theta1_ddot = theta1_dot.diff(t)\n",
    "theta2_ddot = theta2_dot.diff(t)\n",
    "\n",
    "x1_dot_eq = smp.Eq(x1.diff(t), x1_eq.rhs.diff(t))\n",
    "y1_dot_eq = smp.Eq(y1.diff(t), y1_eq.rhs.diff(t))\n",
    "x2_dot_eq = smp.Eq(x2.diff(t), x2_eq.rhs.diff(t))\n",
    "y2_dot_eq = smp.Eq(y2.diff(t), y2_eq.rhs.diff(t))\n",
    "\n",
    "# calculate the lagrangian\n",
    "Kin = smp.symbols('K', cls=smp.Function)\n",
    "Kin = Kin(t)\n",
    "Kin_eq = smp.Eq(Kin,.5*m1*(x1_dot_eq.lhs**2+y1_dot_eq.lhs**2)+.5*m2*(x2_dot_eq.lhs**2+y2_dot_eq.lhs**2))\n",
    "Kin_eq_subs = Kin_eq.subs([(x1,x1_eq.rhs), (x2,x2_eq.rhs),(y1,y1_eq.rhs), (y2,y2_eq.rhs)]).expand().simplify()\n",
    "\n",
    "Pot = smp.symbols('P', cls=smp.Function)\n",
    "Pot = Pot(t)\n",
    "Pot_eq = smp.Eq(Pot,m1*g*y1+m2*g*y2)\n",
    "Pot_eq_subs = Pot_eq.subs([(x1,x1_eq.rhs), (x2,x2_eq.rhs),(y1,y1_eq.rhs), (y2,y2_eq.rhs)]).expand().simplify()\n",
    "\n",
    "Lagrange = smp.symbols(r'\\mathcal{L}', cls=smp.Function)\n",
    "Lagrange = Lagrange(t, theta1, theta2, theta1_dot, theta2_dot) #(t,x1, y1, theta1, x2, y2, theta2, x1_dot_eq.lhs, y1_dot_eq.lhs, theta1_dot, x2_dot_eq.lhs, y2_dot_eq.lhs, theta2_dot)\n",
    "Lagrange_eq = smp.Eq(Lagrange, Kin - Pot)\n",
    "Lagrange_eq_subs = Lagrange_eq.subs([(Kin, Kin_eq_subs.rhs), (Pot, Pot_eq_subs.rhs)]).expand().simplify()\n"
   ]
  },
  {
   "cell_type": "code",
   "execution_count": null,
   "metadata": {},
   "outputs": [],
   "source": [
    "# solve Lagrange \n",
    "L1 = smp.diff(Lagrange_eq_subs.rhs, theta1) - smp.diff(smp.diff(Lagrange_eq_subs.rhs, theta1_dot), t)\n",
    "L1 = L1.expand().simplify()\n",
    "L1_eq = smp.Eq(L1,0)\n",
    "\n",
    "L2 = smp.diff(Lagrange_eq_subs.rhs, theta2) - smp.diff(smp.diff(Lagrange_eq_subs.rhs, theta2_dot), t)\n",
    "L2 = L2.expand().simplify()\n",
    "L2_eq = smp.Eq(L2,0)\n",
    "\n",
    "solutions = smp.solve([L1, L2], (theta1_ddot, theta2_ddot), simplify=True, rational=False)\n",
    "solution_theta1_ddot, solution_theta2_ddot = solutions[theta1_ddot], solutions[theta2_ddot]\n",
    "solution_theta1_ddot, solution_theta2_ddot\n"
   ]
  },
  {
   "cell_type": "code",
   "execution_count": null,
   "metadata": {},
   "outputs": [],
   "source": [
    "# small angle approximation\n",
    "# assume solutions in form amp * cos (omega t)\n",
    "\n"
   ]
  },
  {
   "cell_type": "code",
   "execution_count": null,
   "metadata": {},
   "outputs": [],
   "source": [
    "m=smp.symbols(\"m\")\n",
    "solution_theta1_ddot.subs([(m1,1),(m2,m), (a, 1)])"
   ]
  },
  {
   "cell_type": "code",
   "execution_count": null,
   "metadata": {},
   "outputs": [],
   "source": [
    "solution_theta2_ddot.subs([(m1,1),(m2,m), (a, 1)])"
   ]
  },
  {
   "cell_type": "code",
   "execution_count": null,
   "metadata": {},
   "outputs": [],
   "source": [
    "vx1_num = smp.lambdify((t,a,w,l1,l2,m1,m2,theta1,theta2,theta1_dot,theta2_dot), smp.diff(x1_eq.rhs, t))\n",
    "vx2_num = smp.lambdify((t,a,w,l1,l2,m1,m2,theta1,theta2,theta1_dot,theta2_dot), smp.diff(x2_eq.rhs, t))\n",
    "vy1_num = smp.lambdify((t,a,w,l1,l2,m1,m2,theta1,theta2,theta1_dot,theta2_dot), smp.diff(y1_eq.rhs, t))\n",
    "vy2_num = smp.lambdify((t,a,w,l1,l2,m1,m2,theta1,theta2,theta1_dot,theta2_dot), smp.diff(y2_eq.rhs, t))"
   ]
  }
 ],
 "metadata": {
  "kernelspec": {
   "display_name": "base",
   "language": "python",
   "name": "python3"
  },
  "language_info": {
   "codemirror_mode": {
    "name": "ipython",
    "version": 3
   },
   "file_extension": ".py",
   "mimetype": "text/x-python",
   "name": "python",
   "nbconvert_exporter": "python",
   "pygments_lexer": "ipython3",
   "version": "3.11.5"
  }
 },
 "nbformat": 4,
 "nbformat_minor": 2
}
