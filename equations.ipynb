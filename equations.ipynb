{
 "cells": [
  {
   "cell_type": "code",
   "execution_count": 1,
   "metadata": {},
   "outputs": [
    {
     "data": {
      "text/plain": [
       "' from sympy.physics.mechanics import dynamicsymbols, init_vprinting\\ninit_vprinting '"
      ]
     },
     "execution_count": 1,
     "metadata": {},
     "output_type": "execute_result"
    }
   ],
   "source": [
    "import sympy as smp\n",
    "import numpy as np\n",
    "import matplotlib.pyplot as plt\n",
    "import scipy as sip\n",
    "\n",
    "\"\"\" from sympy.physics.mechanics import dynamicsymbols, init_vprinting\n",
    "init_vprinting \"\"\"\n"
   ]
  },
  {
   "cell_type": "code",
   "execution_count": 2,
   "metadata": {},
   "outputs": [],
   "source": [
    "# declare variables\n",
    "t, l1, l2, m1, m2, w, a, g = smp.symbols(r't l_1 l_2 m_1 m_2 \\omega A g')\n",
    "x1, y1, theta1, x2, y2, theta2 =smp.symbols(r'x_1 y_1 \\theta_1 x_2 y_2 \\theta_2', cls=smp.Function)\n",
    "x1, y1, theta1, x2, y2, theta2 = x1(t), y1(t), theta1(t), x2(t), y2(t), theta2(t)\n",
    "\n",
    "# variable conversions\n",
    "\"\"\" x1 = a*smp.cos(w*t)+l1*smp.sin(theta1)\n",
    "y1 = - l1*smp.cos(theta1)\n",
    " \"\"\"\n",
    "x1_eq = smp.Eq(x1, a*smp.cos(w*t)+l1*smp.sin(theta1))\n",
    "y1_eq = smp.Eq(y1, - l1*smp.cos(theta1))\n",
    "\n",
    "x2_eq = smp.Eq(x2, x1 + l2*smp.sin(theta2))\n",
    "y2_eq = smp.Eq(y2, y1 - l2*smp.cos(theta2))\n",
    "\n",
    "x2_eq = x2_eq.subs(x1, x1_eq.rhs)\n",
    "y2_eq = y2_eq.subs(y1, y1_eq.rhs)\n",
    "\n",
    "# derivatives\n",
    "theta1_dot = theta1.diff(t)\n",
    "theta2_dot = theta2.diff(t)\n",
    "\n",
    "theta1_ddot = theta1_dot.diff(t)\n",
    "theta2_ddot = theta2_dot.diff(t)\n",
    "\n",
    "x1_dot_eq = smp.Eq(x1.diff(t), x1_eq.rhs.diff(t))\n",
    "y1_dot_eq = smp.Eq(y1.diff(t), y1_eq.rhs.diff(t))\n",
    "x2_dot_eq = smp.Eq(x2.diff(t), x2_eq.rhs.diff(t))\n",
    "y2_dot_eq = smp.Eq(y2.diff(t), y2_eq.rhs.diff(t))\n",
    "\n",
    "# calculate the lagrangian\n",
    "Kin = smp.symbols('K', cls=smp.Function)\n",
    "Kin = Kin(t)\n",
    "Kin_eq = smp.Eq(Kin,.5*m1*(x1_dot_eq.lhs**2+y1_dot_eq.lhs**2)+.5*m2*(x2_dot_eq.lhs**2+y2_dot_eq.lhs**2))\n",
    "Kin_eq_subs = Kin_eq.subs([(x1,x1_eq.rhs), (x2,x2_eq.rhs),(y1,y1_eq.rhs), (y2,y2_eq.rhs)]).expand().simplify()\n",
    "\n",
    "Pot = smp.symbols('P', cls=smp.Function)\n",
    "Pot = Pot(t)\n",
    "Pot_eq = smp.Eq(Pot,m1*g*y1+m2*g*y2)\n",
    "Pot_eq_subs = Pot_eq.subs([(x1,x1_eq.rhs), (x2,x2_eq.rhs),(y1,y1_eq.rhs), (y2,y2_eq.rhs)]).expand().simplify()\n",
    "\n",
    "Lagrange = smp.symbols(r'\\mathcal{L}', cls=smp.Function)\n",
    "Lagrange = Lagrange(t, theta1, theta2, theta1_dot, theta2_dot) #(t,x1, y1, theta1, x2, y2, theta2, x1_dot_eq.lhs, y1_dot_eq.lhs, theta1_dot, x2_dot_eq.lhs, y2_dot_eq.lhs, theta2_dot)\n",
    "Lagrange_eq = smp.Eq(Lagrange, Kin - Pot)\n",
    "Lagrange_eq_subs = Lagrange_eq.subs([(Kin, Kin_eq_subs.rhs), (Pot, Pot_eq_subs.rhs)]).expand().simplify()\n"
   ]
  },
  {
   "cell_type": "code",
   "execution_count": 3,
   "metadata": {},
   "outputs": [
    {
     "data": {
      "text/plain": [
       "((A*\\omega**2*m_1*cos(\\omega*t - \\theta_1(t))/2 + A*\\omega**2*m_1*cos(\\omega*t + \\theta_1(t))/2 + A*\\omega**2*m_2*cos(\\omega*t - \\theta_1(t))/4 + A*\\omega**2*m_2*cos(\\omega*t + \\theta_1(t))/4 - A*\\omega**2*m_2*cos(\\omega*t - \\theta_1(t) + 2*\\theta_2(t))/4 - A*\\omega**2*m_2*cos(\\omega*t + \\theta_1(t) - 2*\\theta_2(t))/4 - g*m_1*sin(\\theta_1(t)) - g*m_2*sin(\\theta_1(t) - 2*\\theta_2(t))/2 - g*m_2*sin(\\theta_1(t))/2 - l_1*m_2*sin(2*\\theta_1(t) - 2*\\theta_2(t))*Derivative(\\theta_1(t), t)**2/2 - l_2*m_2*sin(\\theta_1(t) - \\theta_2(t))*Derivative(\\theta_2(t), t)**2)/(l_1*(m_1 - m_2*cos(\\theta_1(t) - \\theta_2(t))**2 + m_2)),\n",
       " (-A*\\omega**2*m_1*cos(\\omega*t)*cos(\\theta_1(t) - \\theta_2(t))*cos(\\theta_1(t)) + A*\\omega**2*m_1*cos(\\omega*t)*cos(\\theta_2(t)) - A*\\omega**2*m_2*cos(\\omega*t)*cos(\\theta_1(t) - \\theta_2(t))*cos(\\theta_1(t)) + A*\\omega**2*m_2*cos(\\omega*t)*cos(\\theta_2(t)) + g*m_1*sin(\\theta_1(t))*cos(\\theta_1(t) - \\theta_2(t)) - g*m_1*sin(\\theta_2(t)) + g*m_2*sin(\\theta_1(t))*cos(\\theta_1(t) - \\theta_2(t)) - g*m_2*sin(\\theta_2(t)) + l_1*m_1*sin(\\theta_1(t) - \\theta_2(t))*Derivative(\\theta_1(t), t)**2 + l_1*m_2*sin(\\theta_1(t) - \\theta_2(t))*Derivative(\\theta_1(t), t)**2 + l_2*m_2*sin(2*\\theta_1(t) - 2*\\theta_2(t))*Derivative(\\theta_2(t), t)**2/2)/(l_2*(m_1 - m_2*cos(\\theta_1(t) - \\theta_2(t))**2 + m_2)))"
      ]
     },
     "execution_count": 3,
     "metadata": {},
     "output_type": "execute_result"
    }
   ],
   "source": [
    "# solve Lagrange \n",
    "L1 = smp.diff(Lagrange_eq_subs.rhs, theta1) - smp.diff(smp.diff(Lagrange_eq_subs.rhs, theta1_dot), t)\n",
    "L1 = L1.expand().simplify()\n",
    "L1_eq = smp.Eq(L1,0)\n",
    "\n",
    "L2 = smp.diff(Lagrange_eq_subs.rhs, theta2) - smp.diff(smp.diff(Lagrange_eq_subs.rhs, theta2_dot), t)\n",
    "L2 = L2.expand().simplify()\n",
    "L2_eq = smp.Eq(L2,0)\n",
    "\n",
    "solutions = smp.solve([L1, L2], (theta1_ddot, theta2_ddot), simplify=True, rational=False)\n",
    "solution_theta1_ddot, solution_theta2_ddot = solutions[theta1_ddot], solutions[theta2_ddot]\n",
    "solution_theta1_ddot, solution_theta2_ddot\n"
   ]
  },
  {
   "cell_type": "code",
   "execution_count": 68,
   "metadata": {},
   "outputs": [],
   "source": [
    "# small angle approximation A_1 A_2 are small\n",
    "# assume solutions in form amp * cos (omega t)\n",
    "amp1, factor = smp.symbols(r'A_1 \\rho')\n",
    "sub_list=[\n",
    "    (smp.cos(theta1),1),\n",
    "    (smp.cos(theta2),1),\n",
    "    (smp.sin(theta1),theta1),\n",
    "    (smp.sin(theta2),theta2),\n",
    "    (theta1, amp1*smp.cos(w*t)),\n",
    "    (theta2, amp1*factor*smp.cos(w*t))\n",
    "]\n",
    "# expand all trig function then do substitutions to avoid confusing the algorithm\n",
    "L1_small_angles = smp.expand_trig(L1).subs(sub_list).doit().expand()\n",
    "L2_small_angles = smp.expand_trig(L2).subs(sub_list).doit().expand()\n",
    "eq1 = L1_small_angles.series(amp1,0,2).removeO().simplify()\n",
    "eq2 = L2_small_angles.series(amp1,0,2).removeO().simplify()\n",
    "solutions_small_angles = smp.solve([eq1.args[2], eq2.args[3]], (w, factor))\n"
   ]
  },
  {
   "cell_type": "code",
   "execution_count": 84,
   "metadata": {},
   "outputs": [
    {
     "data": {
      "text/latex": [
       "$\\displaystyle - \\sqrt{- \\frac{g \\left(- A - \\sqrt{A^{2}}\\right)}{A}}$"
      ],
      "text/plain": [
       "-sqrt(-g*(-A - sqrt(A**2))/A)"
      ]
     },
     "execution_count": 84,
     "metadata": {},
     "output_type": "execute_result"
    }
   ],
   "source": [
    "eq1.args[2]\n",
    "eq2.args[3]\n",
    "solutions_small_angles[0][0].subs([(m1,1), (m2,1), (l2,1), (l1,1), (a,1)])\n",
    "smp.Limit(solutions_small_angles[0][0].subs([(m1,1), (m2,1), (l2,1), (l1,1), (a,1)]), amp1, 0).doit()"
   ]
  },
  {
   "cell_type": "code",
   "execution_count": 5,
   "metadata": {},
   "outputs": [
    {
     "data": {
      "text/latex": [
       "$\\displaystyle \\frac{\\frac{\\omega^{2} m \\cos{\\left(\\omega t - \\theta_{1}{\\left(t \\right)} \\right)}}{4} + \\frac{\\omega^{2} m \\cos{\\left(\\omega t + \\theta_{1}{\\left(t \\right)} \\right)}}{4} - \\frac{\\omega^{2} m \\cos{\\left(\\omega t - \\theta_{1}{\\left(t \\right)} + 2 \\theta_{2}{\\left(t \\right)} \\right)}}{4} - \\frac{\\omega^{2} m \\cos{\\left(\\omega t + \\theta_{1}{\\left(t \\right)} - 2 \\theta_{2}{\\left(t \\right)} \\right)}}{4} + \\frac{\\omega^{2} \\cos{\\left(\\omega t - \\theta_{1}{\\left(t \\right)} \\right)}}{2} + \\frac{\\omega^{2} \\cos{\\left(\\omega t + \\theta_{1}{\\left(t \\right)} \\right)}}{2} - \\frac{g m \\sin{\\left(\\theta_{1}{\\left(t \\right)} - 2 \\theta_{2}{\\left(t \\right)} \\right)}}{2} - \\frac{g m \\sin{\\left(\\theta_{1}{\\left(t \\right)} \\right)}}{2} - g \\sin{\\left(\\theta_{1}{\\left(t \\right)} \\right)} - \\frac{l_{1} m \\sin{\\left(2 \\theta_{1}{\\left(t \\right)} - 2 \\theta_{2}{\\left(t \\right)} \\right)} \\left(\\frac{d}{d t} \\theta_{1}{\\left(t \\right)}\\right)^{2}}{2} - l_{2} m \\sin{\\left(\\theta_{1}{\\left(t \\right)} - \\theta_{2}{\\left(t \\right)} \\right)} \\left(\\frac{d}{d t} \\theta_{2}{\\left(t \\right)}\\right)^{2}}{l_{1} \\left(- m \\cos^{2}{\\left(\\theta_{1}{\\left(t \\right)} - \\theta_{2}{\\left(t \\right)} \\right)} + m + 1\\right)}$"
      ],
      "text/plain": [
       "(\\omega**2*m*cos(\\omega*t - \\theta_1(t))/4 + \\omega**2*m*cos(\\omega*t + \\theta_1(t))/4 - \\omega**2*m*cos(\\omega*t - \\theta_1(t) + 2*\\theta_2(t))/4 - \\omega**2*m*cos(\\omega*t + \\theta_1(t) - 2*\\theta_2(t))/4 + \\omega**2*cos(\\omega*t - \\theta_1(t))/2 + \\omega**2*cos(\\omega*t + \\theta_1(t))/2 - g*m*sin(\\theta_1(t) - 2*\\theta_2(t))/2 - g*m*sin(\\theta_1(t))/2 - g*sin(\\theta_1(t)) - l_1*m*sin(2*\\theta_1(t) - 2*\\theta_2(t))*Derivative(\\theta_1(t), t)**2/2 - l_2*m*sin(\\theta_1(t) - \\theta_2(t))*Derivative(\\theta_2(t), t)**2)/(l_1*(-m*cos(\\theta_1(t) - \\theta_2(t))**2 + m + 1))"
      ]
     },
     "execution_count": 5,
     "metadata": {},
     "output_type": "execute_result"
    }
   ],
   "source": [
    "m=smp.symbols(\"m\")\n",
    "solution_theta1_ddot.subs([(m1,1),(m2,m), (a, 1)])"
   ]
  },
  {
   "cell_type": "code",
   "execution_count": 6,
   "metadata": {},
   "outputs": [
    {
     "data": {
      "text/latex": [
       "$\\displaystyle \\frac{- \\omega^{2} m \\cos{\\left(\\omega t \\right)} \\cos{\\left(\\theta_{1}{\\left(t \\right)} - \\theta_{2}{\\left(t \\right)} \\right)} \\cos{\\left(\\theta_{1}{\\left(t \\right)} \\right)} + \\omega^{2} m \\cos{\\left(\\omega t \\right)} \\cos{\\left(\\theta_{2}{\\left(t \\right)} \\right)} - \\omega^{2} \\cos{\\left(\\omega t \\right)} \\cos{\\left(\\theta_{1}{\\left(t \\right)} - \\theta_{2}{\\left(t \\right)} \\right)} \\cos{\\left(\\theta_{1}{\\left(t \\right)} \\right)} + \\omega^{2} \\cos{\\left(\\omega t \\right)} \\cos{\\left(\\theta_{2}{\\left(t \\right)} \\right)} + g m \\sin{\\left(\\theta_{1}{\\left(t \\right)} \\right)} \\cos{\\left(\\theta_{1}{\\left(t \\right)} - \\theta_{2}{\\left(t \\right)} \\right)} - g m \\sin{\\left(\\theta_{2}{\\left(t \\right)} \\right)} + g \\sin{\\left(\\theta_{1}{\\left(t \\right)} \\right)} \\cos{\\left(\\theta_{1}{\\left(t \\right)} - \\theta_{2}{\\left(t \\right)} \\right)} - g \\sin{\\left(\\theta_{2}{\\left(t \\right)} \\right)} + l_{1} m \\sin{\\left(\\theta_{1}{\\left(t \\right)} - \\theta_{2}{\\left(t \\right)} \\right)} \\left(\\frac{d}{d t} \\theta_{1}{\\left(t \\right)}\\right)^{2} + l_{1} \\sin{\\left(\\theta_{1}{\\left(t \\right)} - \\theta_{2}{\\left(t \\right)} \\right)} \\left(\\frac{d}{d t} \\theta_{1}{\\left(t \\right)}\\right)^{2} + \\frac{l_{2} m \\sin{\\left(2 \\theta_{1}{\\left(t \\right)} - 2 \\theta_{2}{\\left(t \\right)} \\right)} \\left(\\frac{d}{d t} \\theta_{2}{\\left(t \\right)}\\right)^{2}}{2}}{l_{2} \\left(- m \\cos^{2}{\\left(\\theta_{1}{\\left(t \\right)} - \\theta_{2}{\\left(t \\right)} \\right)} + m + 1\\right)}$"
      ],
      "text/plain": [
       "(-\\omega**2*m*cos(\\omega*t)*cos(\\theta_1(t) - \\theta_2(t))*cos(\\theta_1(t)) + \\omega**2*m*cos(\\omega*t)*cos(\\theta_2(t)) - \\omega**2*cos(\\omega*t)*cos(\\theta_1(t) - \\theta_2(t))*cos(\\theta_1(t)) + \\omega**2*cos(\\omega*t)*cos(\\theta_2(t)) + g*m*sin(\\theta_1(t))*cos(\\theta_1(t) - \\theta_2(t)) - g*m*sin(\\theta_2(t)) + g*sin(\\theta_1(t))*cos(\\theta_1(t) - \\theta_2(t)) - g*sin(\\theta_2(t)) + l_1*m*sin(\\theta_1(t) - \\theta_2(t))*Derivative(\\theta_1(t), t)**2 + l_1*sin(\\theta_1(t) - \\theta_2(t))*Derivative(\\theta_1(t), t)**2 + l_2*m*sin(2*\\theta_1(t) - 2*\\theta_2(t))*Derivative(\\theta_2(t), t)**2/2)/(l_2*(-m*cos(\\theta_1(t) - \\theta_2(t))**2 + m + 1))"
      ]
     },
     "execution_count": 6,
     "metadata": {},
     "output_type": "execute_result"
    }
   ],
   "source": [
    "solution_theta2_ddot.subs([(m1,1),(m2,m), (a, 1)])"
   ]
  },
  {
   "cell_type": "code",
   "execution_count": 7,
   "metadata": {},
   "outputs": [],
   "source": [
    "vx1_num = smp.lambdify((t,a,w,l1,l2,m1,m2,theta1,theta2,theta1_dot,theta2_dot), smp.diff(x1_eq.rhs, t))\n",
    "vx2_num = smp.lambdify((t,a,w,l1,l2,m1,m2,theta1,theta2,theta1_dot,theta2_dot), smp.diff(x2_eq.rhs, t))\n",
    "vy1_num = smp.lambdify((t,a,w,l1,l2,m1,m2,theta1,theta2,theta1_dot,theta2_dot), smp.diff(y1_eq.rhs, t))\n",
    "vy2_num = smp.lambdify((t,a,w,l1,l2,m1,m2,theta1,theta2,theta1_dot,theta2_dot), smp.diff(y2_eq.rhs, t))"
   ]
  }
 ],
 "metadata": {
  "kernelspec": {
   "display_name": "base",
   "language": "python",
   "name": "python3"
  },
  "language_info": {
   "codemirror_mode": {
    "name": "ipython",
    "version": 3
   },
   "file_extension": ".py",
   "mimetype": "text/x-python",
   "name": "python",
   "nbconvert_exporter": "python",
   "pygments_lexer": "ipython3",
   "version": "3.11.5"
  }
 },
 "nbformat": 4,
 "nbformat_minor": 2
}
